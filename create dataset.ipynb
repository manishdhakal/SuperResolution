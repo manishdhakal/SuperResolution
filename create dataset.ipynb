{
 "cells": [
  {
   "cell_type": "code",
   "execution_count": 1,
   "metadata": {},
   "outputs": [],
   "source": [
    "import cv2\n",
    "import numpy as np\n",
    "import os\n",
    "import matplotlib.pyplot as plt"
   ]
  },
  {
   "cell_type": "code",
   "execution_count": 2,
   "metadata": {},
   "outputs": [],
   "source": [
    "train_dir = \"dataset/train\" \n",
    "test_dir = \"dataset/test\""
   ]
  },
  {
   "cell_type": "code",
   "execution_count": 6,
   "metadata": {},
   "outputs": [],
   "source": [
    "for img in os.listdir( train_dir + \"/hr\"):\n",
    "    img_arr = cv2.imread(train_dir + \"/hr/\" + img)\n",
    "    \n",
    "    img_arr = cv2.resize(img_arr, (100,100))\n",
    "#     plt.imshow(img_arr)\n",
    "#     plt.show()\n",
    "    lr_img_arr = cv2.resize(img_arr,(25,25))\n",
    "    cv2.imwrite(train_dir+ \"/hr/\" + img, img_arr)\n",
    "    cv2.imwrite(train_dir+ \"/lr/\"+ img, lr_img_arr)\n",
    "    "
   ]
  },
  {
   "cell_type": "code",
   "execution_count": 7,
   "metadata": {},
   "outputs": [],
   "source": [
    "for img in os.listdir( test_dir + \"/hr\"):\n",
    "    img_arr = cv2.imread(test_dir + \"/hr/\" + img)\n",
    "    \n",
    "    img_arr = cv2.resize(img_arr, (100,100))\n",
    "    lr_img_arr = cv2.resize(img_arr,(25,25))\n",
    "    \n",
    "    cv2.imwrite(test_dir + \"/hr/\" + img, img_arr)\n",
    "    cv2.imwrite(test_dir+ \"/lr/\"+ img, lr_img_arr)"
   ]
  }
 ],
 "metadata": {
  "kernelspec": {
   "display_name": "Python 3",
   "language": "python",
   "name": "python3"
  },
  "language_info": {
   "codemirror_mode": {
    "name": "ipython",
    "version": 3
   },
   "file_extension": ".py",
   "mimetype": "text/x-python",
   "name": "python",
   "nbconvert_exporter": "python",
   "pygments_lexer": "ipython3",
   "version": "3.7.5"
  }
 },
 "nbformat": 4,
 "nbformat_minor": 4
}
